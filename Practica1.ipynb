{
 "cells": [
  {
   "cell_type": "code",
   "execution_count": 17,
   "metadata": {},
   "outputs": [],
   "source": [
    "import pandas as pd\n",
    "\n",
    "# Define la ruta del archivo Excel\n",
    "# ruta_archivo = 'C:\\\\Users\\\\lbarc\\\\OneDrive - Universidad Pontificia Comillas\\\\ICAI 11\\\\Machine Learning III\\\\Datos Dia 1\\\\STRIKE_REPORTS.xlsx'\n",
    "\n",
    "# Carga el archivo Excel en un DataFrame de pandas\n",
    "# df = pd.read_excel(ruta_archivo, sheet_name='STRIKE_REPORTS')\n"
   ]
  },
  {
   "cell_type": "code",
   "execution_count": 18,
   "metadata": {},
   "outputs": [],
   "source": [
    "# Elimina filas donde cualquiera de las columnas especificadas tenga un valor NaN\n",
    "# df = df.dropna(subset=['HEIGHT', 'SPEED', 'DISTANCE', 'NUM_STRUCK'])\n"
   ]
  },
  {
   "cell_type": "code",
   "execution_count": 12,
   "metadata": {},
   "outputs": [],
   "source": [
    "# Suma las columnas y guarda el resultado en una nueva columna\n",
    "# df['COST_INFL_ADJ'] = df['COST_REPAIRS_INFL_ADJ'] + df['COST_OTHER_INFL_ADJ']\n"
   ]
  },
  {
   "cell_type": "code",
   "execution_count": 14,
   "metadata": {},
   "outputs": [],
   "source": [
    "# Nombre del archivo de salida\n",
    "# nombre_archivo_salida = 'datos_limpios.xlsx'\n",
    "\n",
    "# Exporta el DataFrame limpio a un archivo Excel\n",
    "# df.to_excel(nombre_archivo_salida, index=False)"
   ]
  },
  {
   "cell_type": "code",
   "execution_count": 16,
   "metadata": {},
   "outputs": [
    {
     "data": {
      "text/html": [
       "<div>\n",
       "<style scoped>\n",
       "    .dataframe tbody tr th:only-of-type {\n",
       "        vertical-align: middle;\n",
       "    }\n",
       "\n",
       "    .dataframe tbody tr th {\n",
       "        vertical-align: top;\n",
       "    }\n",
       "\n",
       "    .dataframe thead th {\n",
       "        text-align: right;\n",
       "    }\n",
       "</style>\n",
       "<table border=\"1\" class=\"dataframe\">\n",
       "  <thead>\n",
       "    <tr style=\"text-align: right;\">\n",
       "      <th></th>\n",
       "      <th>TIME_OF_DAY</th>\n",
       "      <th>AIRCRAFT</th>\n",
       "      <th>AC_MASS</th>\n",
       "      <th>PHASE_OF_FLIGHT</th>\n",
       "      <th>HEIGHT</th>\n",
       "      <th>SPEED</th>\n",
       "      <th>DISTANCE</th>\n",
       "      <th>SPECIES</th>\n",
       "      <th>NUM_STRUCK</th>\n",
       "      <th>COST_INFL_ADJ</th>\n",
       "    </tr>\n",
       "  </thead>\n",
       "  <tbody>\n",
       "    <tr>\n",
       "      <th>0</th>\n",
       "      <td>Day</td>\n",
       "      <td>B-727-100</td>\n",
       "      <td>4</td>\n",
       "      <td>Take-off Run</td>\n",
       "      <td>0</td>\n",
       "      <td>100</td>\n",
       "      <td>0.0</td>\n",
       "      <td>Unknown bird - medium</td>\n",
       "      <td>1</td>\n",
       "      <td>NaN</td>\n",
       "    </tr>\n",
       "    <tr>\n",
       "      <th>1</th>\n",
       "      <td>Day</td>\n",
       "      <td>DC-9</td>\n",
       "      <td>4</td>\n",
       "      <td>Landing Roll</td>\n",
       "      <td>0</td>\n",
       "      <td>100</td>\n",
       "      <td>0.0</td>\n",
       "      <td>Unknown bird - small</td>\n",
       "      <td>2-10</td>\n",
       "      <td>NaN</td>\n",
       "    </tr>\n",
       "    <tr>\n",
       "      <th>2</th>\n",
       "      <td>Day</td>\n",
       "      <td>MD-11</td>\n",
       "      <td>4</td>\n",
       "      <td>Landing Roll</td>\n",
       "      <td>0</td>\n",
       "      <td>120</td>\n",
       "      <td>0.0</td>\n",
       "      <td>Unknown bird - small</td>\n",
       "      <td>1</td>\n",
       "      <td>NaN</td>\n",
       "    </tr>\n",
       "    <tr>\n",
       "      <th>3</th>\n",
       "      <td>Day</td>\n",
       "      <td>MD-80</td>\n",
       "      <td>4</td>\n",
       "      <td>Landing Roll</td>\n",
       "      <td>0</td>\n",
       "      <td>125</td>\n",
       "      <td>0.0</td>\n",
       "      <td>American kestrel</td>\n",
       "      <td>1</td>\n",
       "      <td>NaN</td>\n",
       "    </tr>\n",
       "    <tr>\n",
       "      <th>4</th>\n",
       "      <td>Day</td>\n",
       "      <td>B-737</td>\n",
       "      <td>4</td>\n",
       "      <td>Landing Roll</td>\n",
       "      <td>0</td>\n",
       "      <td>100</td>\n",
       "      <td>0.0</td>\n",
       "      <td>Gulls</td>\n",
       "      <td>1</td>\n",
       "      <td>NaN</td>\n",
       "    </tr>\n",
       "  </tbody>\n",
       "</table>\n",
       "</div>"
      ],
      "text/plain": [
       "  TIME_OF_DAY   AIRCRAFT  AC_MASS PHASE_OF_FLIGHT  HEIGHT  SPEED  DISTANCE  \\\n",
       "0         Day  B-727-100        4    Take-off Run       0    100       0.0   \n",
       "1         Day       DC-9        4    Landing Roll       0    100       0.0   \n",
       "2         Day      MD-11        4    Landing Roll       0    120       0.0   \n",
       "3         Day      MD-80        4    Landing Roll       0    125       0.0   \n",
       "4         Day      B-737        4    Landing Roll       0    100       0.0   \n",
       "\n",
       "                 SPECIES NUM_STRUCK  COST_INFL_ADJ  \n",
       "0  Unknown bird - medium          1            NaN  \n",
       "1   Unknown bird - small       2-10            NaN  \n",
       "2   Unknown bird - small          1            NaN  \n",
       "3       American kestrel          1            NaN  \n",
       "4                  Gulls          1            NaN  "
      ]
     },
     "execution_count": 16,
     "metadata": {},
     "output_type": "execute_result"
    }
   ],
   "source": [
    "import pandas as pd\n",
    "\n",
    "# Define la ruta del archivo Excel\n",
    "ruta_archivo = 'datos_limpios.xlsx'\n",
    "\n",
    "# Carga el archivo Excel en un DataFrame de pandas\n",
    "df = pd.read_excel(ruta_archivo)\n",
    "\n",
    "df.head()"
   ]
  },
  {
   "cell_type": "code",
   "execution_count": 20,
   "metadata": {},
   "outputs": [
    {
     "name": "stdout",
     "output_type": "stream",
     "text": [
      "Day      33810\n",
      "Night    14540\n",
      "Dusk      2593\n",
      "Dawn      2026\n",
      "Name: TIME_OF_DAY, dtype: int64\n",
      "B-737-700          5461\n",
      "B-737-800          3242\n",
      "B-737-300          2695\n",
      "A-320              2308\n",
      "CRJ100/200         2009\n",
      "                   ... \n",
      "FOKKER F28            1\n",
      "ROBINSON R66          1\n",
      "FAIRCHILD FH227       1\n",
      "ANTONOV 124           1\n",
      "GULFSTREAM G700       1\n",
      "Name: AIRCRAFT, Length: 424, dtype: int64\n",
      "4    36188\n",
      "3     9422\n",
      "1     3498\n",
      "2     3485\n",
      "5      376\n",
      "Name: AC_MASS, dtype: int64\n"
     ]
    }
   ],
   "source": [
    "# Análisis de la distribución de categorías\n",
    "print(df['TIME_OF_DAY'].value_counts())\n",
    "print(df['AIRCRAFT'].value_counts())\n",
    "print(df['AC_MASS'].value_counts())"
   ]
  },
  {
   "cell_type": "code",
   "execution_count": 21,
   "metadata": {},
   "outputs": [
    {
     "name": "stdout",
     "output_type": "stream",
     "text": [
      "Approach        21748\n",
      "Take-off Run    11858\n",
      "Landing Roll    11559\n",
      "Climb            7013\n",
      "Descent           493\n",
      "Taxi              143\n",
      "Local             123\n",
      "Parked             29\n",
      "En Route            2\n",
      "Unknown             1\n",
      "Name: PHASE_OF_FLIGHT, dtype: int64\n",
      "Unknown bird - small     17603\n",
      "Unknown bird - medium     6119\n",
      "Unknown bird              2637\n",
      "Gulls                     2371\n",
      "Mourning dove             1658\n",
      "                         ...  \n",
      "Chuck-will's-widow           1\n",
      "Northern cardinal            1\n",
      "Horse                        1\n",
      "Grebes                       1\n",
      "Purple gallinule             1\n",
      "Name: SPECIES, Length: 533, dtype: int64\n",
      "1                43670\n",
      "2-10              8713\n",
      "11-100             566\n",
      "More than 100       20\n",
      "Name: NUM_STRUCK, dtype: int64\n"
     ]
    }
   ],
   "source": [
    "print(df['PHASE_OF_FLIGHT'].value_counts())\n",
    "print(df['SPECIES'].value_counts())\n",
    "print(df['NUM_STRUCK'].value_counts())"
   ]
  }
 ],
 "metadata": {
  "kernelspec": {
   "display_name": "base",
   "language": "python",
   "name": "python3"
  },
  "language_info": {
   "codemirror_mode": {
    "name": "ipython",
    "version": 3
   },
   "file_extension": ".py",
   "mimetype": "text/x-python",
   "name": "python",
   "nbconvert_exporter": "python",
   "pygments_lexer": "ipython3",
   "version": "3.9.7"
  }
 },
 "nbformat": 4,
 "nbformat_minor": 2
}
