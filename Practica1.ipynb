{
 "cells": [
  {
   "cell_type": "markdown",
   "metadata": {},
   "source": [
    "# Práctica 1: PCA + Clustering \n",
    "* Autores: Luis Bueno y Yago Tobio \n",
    "* Dataset original: [Aircraft Wildlife Strikes 1990 - 2023 ](https://www.kaggle.com/datasets/dianaddx/aircraft-wildlife-strikes-1990-2023?resource=download)\n",
    "\n",
    "---\n",
    "\n",
    "# 1. Preprocesamiento para purificar el dataset"
   ]
  },
  {
   "cell_type": "code",
   "execution_count": 32,
   "metadata": {},
   "outputs": [
    {
     "name": "stderr",
     "output_type": "stream",
     "text": [
      "c:\\Anaconda\\lib\\site-packages\\scipy\\__init__.py:146: UserWarning: A NumPy version >=1.16.5 and <1.23.0 is required for this version of SciPy (detected version 1.26.3\n",
      "  warnings.warn(f\"A NumPy version >={np_minversion} and <{np_maxversion}\"\n"
     ]
    }
   ],
   "source": [
    "# * Librerías \n",
    "from sklearn.preprocessing import StandardScaler\n",
    "from sklearn.decomposition import PCA\n",
    "from sklearn.cluster import KMeans\n",
    "from imblearn.over_sampling import SMOTE\n",
    "\n",
    "import pandas as pd \n",
    "import matplotlib.pyplot as plt\n",
    "import numpy as np\n",
    "import seaborn as sns\n",
    "import plotly.express as px"
   ]
  },
  {
   "cell_type": "code",
   "execution_count": 2,
   "metadata": {},
   "outputs": [
    {
     "name": "stderr",
     "output_type": "stream",
     "text": [
      "/var/folders/hs/d248yjt91hj682bsqhd1bv0m0000gn/T/ipykernel_48412/1240123147.py:5: DtypeWarning: Columns (18,21) have mixed types. Specify dtype option on import or set low_memory=False.\n",
      "  df = pd.read_csv(ruta_archivo)\n"
     ]
    }
   ],
   "source": [
    "# Define la ruta del archivo Excel\n",
    "ruta_archivo = 'STRIKE_REPORTS.csv'\n",
    "\n",
    "# Carga el archivo Excel en un DataFrame de pandas\n",
    "df = pd.read_csv(ruta_archivo)"
   ]
  },
  {
   "cell_type": "code",
   "execution_count": 3,
   "metadata": {},
   "outputs": [
    {
     "data": {
      "text/html": [
       "<div>\n",
       "<style scoped>\n",
       "    .dataframe tbody tr th:only-of-type {\n",
       "        vertical-align: middle;\n",
       "    }\n",
       "\n",
       "    .dataframe tbody tr th {\n",
       "        vertical-align: top;\n",
       "    }\n",
       "\n",
       "    .dataframe thead th {\n",
       "        text-align: right;\n",
       "    }\n",
       "</style>\n",
       "<table border=\"1\" class=\"dataframe\">\n",
       "  <thead>\n",
       "    <tr style=\"text-align: right;\">\n",
       "      <th></th>\n",
       "      <th>INDEX_NR</th>\n",
       "      <th>INCIDENT_DATE</th>\n",
       "      <th>INCIDENT_MONTH</th>\n",
       "      <th>INCIDENT_YEAR</th>\n",
       "      <th>TIME</th>\n",
       "      <th>TIME_OF_DAY</th>\n",
       "      <th>AIRPORT_ID</th>\n",
       "      <th>AIRPORT</th>\n",
       "      <th>LATITUDE</th>\n",
       "      <th>LONGITUDE</th>\n",
       "      <th>...</th>\n",
       "      <th>SIZE</th>\n",
       "      <th>NR_INJURIES</th>\n",
       "      <th>NR_FATALITIES</th>\n",
       "      <th>COMMENTS</th>\n",
       "      <th>REPORTED_NAME</th>\n",
       "      <th>REPORTED_TITLE</th>\n",
       "      <th>SOURCE</th>\n",
       "      <th>PERSON</th>\n",
       "      <th>LUPDATE</th>\n",
       "      <th>TRANSFER</th>\n",
       "    </tr>\n",
       "  </thead>\n",
       "  <tbody>\n",
       "    <tr>\n",
       "      <th>0</th>\n",
       "      <td>608242</td>\n",
       "      <td>6/22/1996</td>\n",
       "      <td>6</td>\n",
       "      <td>1996</td>\n",
       "      <td>NaN</td>\n",
       "      <td>NaN</td>\n",
       "      <td>KSMF</td>\n",
       "      <td>SACRAMENTO INTL</td>\n",
       "      <td>38.69542</td>\n",
       "      <td>-121.59077</td>\n",
       "      <td>...</td>\n",
       "      <td>Medium</td>\n",
       "      <td>NaN</td>\n",
       "      <td>NaN</td>\n",
       "      <td>/Legacy Record=100001/</td>\n",
       "      <td>REDACTED</td>\n",
       "      <td>REDACTED</td>\n",
       "      <td>Air Transport Report</td>\n",
       "      <td>Air Transport Operations</td>\n",
       "      <td>12/20/2007</td>\n",
       "      <td>False</td>\n",
       "    </tr>\n",
       "    <tr>\n",
       "      <th>1</th>\n",
       "      <td>608243</td>\n",
       "      <td>6/26/1996</td>\n",
       "      <td>6</td>\n",
       "      <td>1996</td>\n",
       "      <td>NaN</td>\n",
       "      <td>NaN</td>\n",
       "      <td>KDEN</td>\n",
       "      <td>DENVER INTL AIRPORT</td>\n",
       "      <td>39.85841</td>\n",
       "      <td>-104.66700</td>\n",
       "      <td>...</td>\n",
       "      <td>Medium</td>\n",
       "      <td>NaN</td>\n",
       "      <td>NaN</td>\n",
       "      <td>/Legacy Record=100002/</td>\n",
       "      <td>REDACTED</td>\n",
       "      <td>REDACTED</td>\n",
       "      <td>Air Transport Report</td>\n",
       "      <td>Air Transport Operations</td>\n",
       "      <td>12/20/2007</td>\n",
       "      <td>False</td>\n",
       "    </tr>\n",
       "    <tr>\n",
       "      <th>2</th>\n",
       "      <td>608244</td>\n",
       "      <td>7/1/1996</td>\n",
       "      <td>7</td>\n",
       "      <td>1996</td>\n",
       "      <td>NaN</td>\n",
       "      <td>NaN</td>\n",
       "      <td>KOMA</td>\n",
       "      <td>EPPLEY AIRFIELD</td>\n",
       "      <td>41.30252</td>\n",
       "      <td>-95.89417</td>\n",
       "      <td>...</td>\n",
       "      <td>Medium</td>\n",
       "      <td>NaN</td>\n",
       "      <td>NaN</td>\n",
       "      <td>/Legacy Record=100003/</td>\n",
       "      <td>REDACTED</td>\n",
       "      <td>REDACTED</td>\n",
       "      <td>Air Transport Report</td>\n",
       "      <td>Air Transport Operations</td>\n",
       "      <td>12/20/2007</td>\n",
       "      <td>False</td>\n",
       "    </tr>\n",
       "    <tr>\n",
       "      <th>3</th>\n",
       "      <td>608245</td>\n",
       "      <td>7/1/1996</td>\n",
       "      <td>7</td>\n",
       "      <td>1996</td>\n",
       "      <td>NaN</td>\n",
       "      <td>NaN</td>\n",
       "      <td>KIAD</td>\n",
       "      <td>WASHINGTON DULLES INTL ARPT</td>\n",
       "      <td>38.94453</td>\n",
       "      <td>-77.45581</td>\n",
       "      <td>...</td>\n",
       "      <td>Medium</td>\n",
       "      <td>NaN</td>\n",
       "      <td>NaN</td>\n",
       "      <td>/Legacy Record=100004/</td>\n",
       "      <td>REDACTED</td>\n",
       "      <td>REDACTED</td>\n",
       "      <td>Air Transport Report</td>\n",
       "      <td>Air Transport Operations</td>\n",
       "      <td>12/20/2007</td>\n",
       "      <td>False</td>\n",
       "    </tr>\n",
       "    <tr>\n",
       "      <th>4</th>\n",
       "      <td>608246</td>\n",
       "      <td>7/1/1996</td>\n",
       "      <td>7</td>\n",
       "      <td>1996</td>\n",
       "      <td>NaN</td>\n",
       "      <td>NaN</td>\n",
       "      <td>KLGA</td>\n",
       "      <td>LA GUARDIA ARPT</td>\n",
       "      <td>40.77724</td>\n",
       "      <td>-73.87261</td>\n",
       "      <td>...</td>\n",
       "      <td>Medium</td>\n",
       "      <td>NaN</td>\n",
       "      <td>NaN</td>\n",
       "      <td>/Legacy Record=100005/</td>\n",
       "      <td>REDACTED</td>\n",
       "      <td>REDACTED</td>\n",
       "      <td>Air Transport Report</td>\n",
       "      <td>Air Transport Operations</td>\n",
       "      <td>12/20/2007</td>\n",
       "      <td>False</td>\n",
       "    </tr>\n",
       "  </tbody>\n",
       "</table>\n",
       "<p>5 rows × 100 columns</p>\n",
       "</div>"
      ],
      "text/plain": [
       "   INDEX_NR INCIDENT_DATE  INCIDENT_MONTH  INCIDENT_YEAR TIME TIME_OF_DAY  \\\n",
       "0    608242     6/22/1996               6           1996  NaN         NaN   \n",
       "1    608243     6/26/1996               6           1996  NaN         NaN   \n",
       "2    608244      7/1/1996               7           1996  NaN         NaN   \n",
       "3    608245      7/1/1996               7           1996  NaN         NaN   \n",
       "4    608246      7/1/1996               7           1996  NaN         NaN   \n",
       "\n",
       "  AIRPORT_ID                      AIRPORT  LATITUDE  LONGITUDE  ...    SIZE  \\\n",
       "0       KSMF              SACRAMENTO INTL  38.69542 -121.59077  ...  Medium   \n",
       "1       KDEN          DENVER INTL AIRPORT  39.85841 -104.66700  ...  Medium   \n",
       "2       KOMA              EPPLEY AIRFIELD  41.30252  -95.89417  ...  Medium   \n",
       "3       KIAD  WASHINGTON DULLES INTL ARPT  38.94453  -77.45581  ...  Medium   \n",
       "4       KLGA              LA GUARDIA ARPT  40.77724  -73.87261  ...  Medium   \n",
       "\n",
       "  NR_INJURIES NR_FATALITIES                COMMENTS REPORTED_NAME  \\\n",
       "0         NaN           NaN  /Legacy Record=100001/      REDACTED   \n",
       "1         NaN           NaN  /Legacy Record=100002/      REDACTED   \n",
       "2         NaN           NaN  /Legacy Record=100003/      REDACTED   \n",
       "3         NaN           NaN  /Legacy Record=100004/      REDACTED   \n",
       "4         NaN           NaN  /Legacy Record=100005/      REDACTED   \n",
       "\n",
       "  REPORTED_TITLE                SOURCE                    PERSON     LUPDATE  \\\n",
       "0       REDACTED  Air Transport Report  Air Transport Operations  12/20/2007   \n",
       "1       REDACTED  Air Transport Report  Air Transport Operations  12/20/2007   \n",
       "2       REDACTED  Air Transport Report  Air Transport Operations  12/20/2007   \n",
       "3       REDACTED  Air Transport Report  Air Transport Operations  12/20/2007   \n",
       "4       REDACTED  Air Transport Report  Air Transport Operations  12/20/2007   \n",
       "\n",
       "  TRANSFER  \n",
       "0    False  \n",
       "1    False  \n",
       "2    False  \n",
       "3    False  \n",
       "4    False  \n",
       "\n",
       "[5 rows x 100 columns]"
      ]
     },
     "execution_count": 3,
     "metadata": {},
     "output_type": "execute_result"
    }
   ],
   "source": [
    "df.head()"
   ]
  },
  {
   "cell_type": "code",
   "execution_count": 4,
   "metadata": {},
   "outputs": [],
   "source": [
    "\n",
    "# * Seleccionamos las categorías que deseamos conservar en nuestro dataset\n",
    "CATEGORICAL_COLUMNS = ['TIME_OF_DAY', 'AIRCRAFT', 'AC_MASS', 'PHASE_OF_FLIGHT', 'SPECIES', 'STATE', 'NUM_STRUCK'] \n",
    "NUMERICAL_COLUMNS = ['INCIDENT_YEAR', 'HEIGHT', 'SPEED', 'DISTANCE', 'COST_REPAIRS_INFL_ADJ', 'COST_OTHER_INFL_ADJ']\n",
    "TOTAL_COLUMNS = CATEGORICAL_COLUMNS + NUMERICAL_COLUMNS"
   ]
  },
  {
   "cell_type": "code",
   "execution_count": 5,
   "metadata": {},
   "outputs": [
    {
     "data": {
      "text/html": [
       "<div>\n",
       "<style scoped>\n",
       "    .dataframe tbody tr th:only-of-type {\n",
       "        vertical-align: middle;\n",
       "    }\n",
       "\n",
       "    .dataframe tbody tr th {\n",
       "        vertical-align: top;\n",
       "    }\n",
       "\n",
       "    .dataframe thead th {\n",
       "        text-align: right;\n",
       "    }\n",
       "</style>\n",
       "<table border=\"1\" class=\"dataframe\">\n",
       "  <thead>\n",
       "    <tr style=\"text-align: right;\">\n",
       "      <th></th>\n",
       "      <th>TIME_OF_DAY</th>\n",
       "      <th>AIRCRAFT</th>\n",
       "      <th>AC_MASS</th>\n",
       "      <th>PHASE_OF_FLIGHT</th>\n",
       "      <th>SPECIES</th>\n",
       "      <th>STATE</th>\n",
       "      <th>NUM_STRUCK</th>\n",
       "      <th>INCIDENT_YEAR</th>\n",
       "      <th>HEIGHT</th>\n",
       "      <th>SPEED</th>\n",
       "      <th>DISTANCE</th>\n",
       "      <th>COST_REPAIRS_INFL_ADJ</th>\n",
       "      <th>COST_OTHER_INFL_ADJ</th>\n",
       "    </tr>\n",
       "  </thead>\n",
       "  <tbody>\n",
       "    <tr>\n",
       "      <th>5</th>\n",
       "      <td>Day</td>\n",
       "      <td>B-727-100</td>\n",
       "      <td>4.0</td>\n",
       "      <td>Take-off Run</td>\n",
       "      <td>Unknown bird - medium</td>\n",
       "      <td>TX</td>\n",
       "      <td>1</td>\n",
       "      <td>1991</td>\n",
       "      <td>0.0</td>\n",
       "      <td>100.0</td>\n",
       "      <td>0.0</td>\n",
       "      <td>NaN</td>\n",
       "      <td>NaN</td>\n",
       "    </tr>\n",
       "    <tr>\n",
       "      <th>11</th>\n",
       "      <td>Day</td>\n",
       "      <td>DC-9</td>\n",
       "      <td>4.0</td>\n",
       "      <td>Landing Roll</td>\n",
       "      <td>Unknown bird - small</td>\n",
       "      <td>GA</td>\n",
       "      <td>2-10</td>\n",
       "      <td>1990</td>\n",
       "      <td>0.0</td>\n",
       "      <td>100.0</td>\n",
       "      <td>0.0</td>\n",
       "      <td>NaN</td>\n",
       "      <td>NaN</td>\n",
       "    </tr>\n",
       "    <tr>\n",
       "      <th>13</th>\n",
       "      <td>Day</td>\n",
       "      <td>MD-11</td>\n",
       "      <td>4.0</td>\n",
       "      <td>Landing Roll</td>\n",
       "      <td>Unknown bird - small</td>\n",
       "      <td>TX</td>\n",
       "      <td>1</td>\n",
       "      <td>1993</td>\n",
       "      <td>0.0</td>\n",
       "      <td>120.0</td>\n",
       "      <td>0.0</td>\n",
       "      <td>NaN</td>\n",
       "      <td>NaN</td>\n",
       "    </tr>\n",
       "    <tr>\n",
       "      <th>16</th>\n",
       "      <td>Day</td>\n",
       "      <td>MD-80</td>\n",
       "      <td>4.0</td>\n",
       "      <td>Landing Roll</td>\n",
       "      <td>American kestrel</td>\n",
       "      <td>CA</td>\n",
       "      <td>1</td>\n",
       "      <td>1990</td>\n",
       "      <td>0.0</td>\n",
       "      <td>125.0</td>\n",
       "      <td>0.0</td>\n",
       "      <td>NaN</td>\n",
       "      <td>NaN</td>\n",
       "    </tr>\n",
       "    <tr>\n",
       "      <th>18</th>\n",
       "      <td>NaN</td>\n",
       "      <td>B-757-200</td>\n",
       "      <td>4.0</td>\n",
       "      <td>Take-off Run</td>\n",
       "      <td>Unknown bird - medium</td>\n",
       "      <td>CA</td>\n",
       "      <td>11-100</td>\n",
       "      <td>1995</td>\n",
       "      <td>0.0</td>\n",
       "      <td>140.0</td>\n",
       "      <td>0.0</td>\n",
       "      <td>NaN</td>\n",
       "      <td>NaN</td>\n",
       "    </tr>\n",
       "  </tbody>\n",
       "</table>\n",
       "</div>"
      ],
      "text/plain": [
       "   TIME_OF_DAY   AIRCRAFT  AC_MASS PHASE_OF_FLIGHT                SPECIES  \\\n",
       "5          Day  B-727-100      4.0    Take-off Run  Unknown bird - medium   \n",
       "11         Day       DC-9      4.0    Landing Roll   Unknown bird - small   \n",
       "13         Day      MD-11      4.0    Landing Roll   Unknown bird - small   \n",
       "16         Day      MD-80      4.0    Landing Roll       American kestrel   \n",
       "18         NaN  B-757-200      4.0    Take-off Run  Unknown bird - medium   \n",
       "\n",
       "   STATE NUM_STRUCK  INCIDENT_YEAR  HEIGHT  SPEED  DISTANCE  \\\n",
       "5     TX          1           1991     0.0  100.0       0.0   \n",
       "11    GA       2-10           1990     0.0  100.0       0.0   \n",
       "13    TX          1           1993     0.0  120.0       0.0   \n",
       "16    CA          1           1990     0.0  125.0       0.0   \n",
       "18    CA     11-100           1995     0.0  140.0       0.0   \n",
       "\n",
       "   COST_REPAIRS_INFL_ADJ COST_OTHER_INFL_ADJ  \n",
       "5                    NaN                 NaN  \n",
       "11                   NaN                 NaN  \n",
       "13                   NaN                 NaN  \n",
       "16                   NaN                 NaN  \n",
       "18                   NaN                 NaN  "
      ]
     },
     "execution_count": 5,
     "metadata": {},
     "output_type": "execute_result"
    }
   ],
   "source": [
    "\n",
    "# *  Elimina filas donde cualquiera de las columnas especificadas tenga un valor NaN\n",
    "df = df.dropna(subset=['HEIGHT', 'SPEED', 'DISTANCE', 'NUM_STRUCK'])\n",
    "\n",
    "# * Seleccionamos únicamente las columnas deseadas para nuestro analisis, PCA y Clustering\n",
    "df = df[TOTAL_COLUMNS]\n",
    "df.head()"
   ]
  },
  {
   "cell_type": "markdown",
   "metadata": {},
   "source": [
    "Debido al voluminoso tamaño de nuestro conjunto de datos original, consideramos que es una práctica recomendable almacenar los datos ya depurados que emplearemos a lo largo del proyecto en un nuevo archivo con formato .xlsx"
   ]
  },
  {
   "cell_type": "code",
   "execution_count": 6,
   "metadata": {},
   "outputs": [],
   "source": [
    "# Nombre del archivo de salida\n",
    "nombre_archivo_salida = 'datos_limpios.xlsx'\n",
    "df.to_excel(nombre_archivo_salida, index=False)"
   ]
  },
  {
   "cell_type": "code",
   "execution_count": 64,
   "metadata": {},
   "outputs": [
    {
     "data": {
      "text/html": [
       "<div>\n",
       "<style scoped>\n",
       "    .dataframe tbody tr th:only-of-type {\n",
       "        vertical-align: middle;\n",
       "    }\n",
       "\n",
       "    .dataframe tbody tr th {\n",
       "        vertical-align: top;\n",
       "    }\n",
       "\n",
       "    .dataframe thead th {\n",
       "        text-align: right;\n",
       "    }\n",
       "</style>\n",
       "<table border=\"1\" class=\"dataframe\">\n",
       "  <thead>\n",
       "    <tr style=\"text-align: right;\">\n",
       "      <th></th>\n",
       "      <th>TIME_OF_DAY</th>\n",
       "      <th>AIRCRAFT</th>\n",
       "      <th>AC_MASS</th>\n",
       "      <th>PHASE_OF_FLIGHT</th>\n",
       "      <th>SPECIES</th>\n",
       "      <th>STATE</th>\n",
       "      <th>NUM_STRUCK</th>\n",
       "      <th>INCIDENT_YEAR</th>\n",
       "      <th>HEIGHT</th>\n",
       "      <th>SPEED</th>\n",
       "      <th>DISTANCE</th>\n",
       "      <th>COST_REPAIRS_INFL_ADJ</th>\n",
       "      <th>COST_OTHER_INFL_ADJ</th>\n",
       "    </tr>\n",
       "  </thead>\n",
       "  <tbody>\n",
       "    <tr>\n",
       "      <th>0</th>\n",
       "      <td>Day</td>\n",
       "      <td>B-727-100</td>\n",
       "      <td>4.0</td>\n",
       "      <td>Take-off Run</td>\n",
       "      <td>Unknown bird - medium</td>\n",
       "      <td>TX</td>\n",
       "      <td>1</td>\n",
       "      <td>1991</td>\n",
       "      <td>0</td>\n",
       "      <td>100</td>\n",
       "      <td>0.0</td>\n",
       "      <td>NaN</td>\n",
       "      <td>NaN</td>\n",
       "    </tr>\n",
       "    <tr>\n",
       "      <th>1</th>\n",
       "      <td>Day</td>\n",
       "      <td>DC-9</td>\n",
       "      <td>4.0</td>\n",
       "      <td>Landing Roll</td>\n",
       "      <td>Unknown bird - small</td>\n",
       "      <td>GA</td>\n",
       "      <td>2-10</td>\n",
       "      <td>1990</td>\n",
       "      <td>0</td>\n",
       "      <td>100</td>\n",
       "      <td>0.0</td>\n",
       "      <td>NaN</td>\n",
       "      <td>NaN</td>\n",
       "    </tr>\n",
       "    <tr>\n",
       "      <th>2</th>\n",
       "      <td>Day</td>\n",
       "      <td>MD-11</td>\n",
       "      <td>4.0</td>\n",
       "      <td>Landing Roll</td>\n",
       "      <td>Unknown bird - small</td>\n",
       "      <td>TX</td>\n",
       "      <td>1</td>\n",
       "      <td>1993</td>\n",
       "      <td>0</td>\n",
       "      <td>120</td>\n",
       "      <td>0.0</td>\n",
       "      <td>NaN</td>\n",
       "      <td>NaN</td>\n",
       "    </tr>\n",
       "    <tr>\n",
       "      <th>3</th>\n",
       "      <td>Day</td>\n",
       "      <td>MD-80</td>\n",
       "      <td>4.0</td>\n",
       "      <td>Landing Roll</td>\n",
       "      <td>American kestrel</td>\n",
       "      <td>CA</td>\n",
       "      <td>1</td>\n",
       "      <td>1990</td>\n",
       "      <td>0</td>\n",
       "      <td>125</td>\n",
       "      <td>0.0</td>\n",
       "      <td>NaN</td>\n",
       "      <td>NaN</td>\n",
       "    </tr>\n",
       "    <tr>\n",
       "      <th>4</th>\n",
       "      <td>NaN</td>\n",
       "      <td>B-757-200</td>\n",
       "      <td>4.0</td>\n",
       "      <td>Take-off Run</td>\n",
       "      <td>Unknown bird - medium</td>\n",
       "      <td>CA</td>\n",
       "      <td>11-100</td>\n",
       "      <td>1995</td>\n",
       "      <td>0</td>\n",
       "      <td>140</td>\n",
       "      <td>0.0</td>\n",
       "      <td>NaN</td>\n",
       "      <td>NaN</td>\n",
       "    </tr>\n",
       "  </tbody>\n",
       "</table>\n",
       "</div>"
      ],
      "text/plain": [
       "  TIME_OF_DAY   AIRCRAFT  AC_MASS PHASE_OF_FLIGHT                SPECIES  \\\n",
       "0         Day  B-727-100      4.0    Take-off Run  Unknown bird - medium   \n",
       "1         Day       DC-9      4.0    Landing Roll   Unknown bird - small   \n",
       "2         Day      MD-11      4.0    Landing Roll   Unknown bird - small   \n",
       "3         Day      MD-80      4.0    Landing Roll       American kestrel   \n",
       "4         NaN  B-757-200      4.0    Take-off Run  Unknown bird - medium   \n",
       "\n",
       "  STATE NUM_STRUCK  INCIDENT_YEAR  HEIGHT  SPEED  DISTANCE  \\\n",
       "0    TX          1           1991       0    100       0.0   \n",
       "1    GA       2-10           1990       0    100       0.0   \n",
       "2    TX          1           1993       0    120       0.0   \n",
       "3    CA          1           1990       0    125       0.0   \n",
       "4    CA     11-100           1995       0    140       0.0   \n",
       "\n",
       "  COST_REPAIRS_INFL_ADJ COST_OTHER_INFL_ADJ  \n",
       "0                   NaN                 NaN  \n",
       "1                   NaN                 NaN  \n",
       "2                   NaN                 NaN  \n",
       "3                   NaN                 NaN  \n",
       "4                   NaN                 NaN  "
      ]
     },
     "execution_count": 64,
     "metadata": {},
     "output_type": "execute_result"
    }
   ],
   "source": [
    "# Define la ruta del archivo Excel\n",
    "ruta_archivo = 'datos_limpios.xlsx'\n",
    "\n",
    "# Carga el archivo Excel en un DataFrame de pandas\n",
    "df = pd.read_excel(ruta_archivo)\n",
    "df.head()"
   ]
  },
  {
   "cell_type": "code",
   "execution_count": 65,
   "metadata": {},
   "outputs": [
    {
     "name": "stdout",
     "output_type": "stream",
     "text": [
      "14014.0     3\n",
      "2510.0      3\n",
      "8155.0      2\n",
      "191100.0    2\n",
      "105000.0    2\n",
      "           ..\n",
      "143115.0    1\n",
      "170375.0    1\n",
      "57246.0     1\n",
      "13678.0     1\n",
      "367.0       1\n",
      "Name: COST_INFL_ADJ, Length: 657, dtype: int64\n"
     ]
    }
   ],
   "source": [
    "\n",
    "# Assuming df is your DataFrame\n",
    "# Convert 'COST_REPAIRS_INFL_ADJ' and 'COST_OTHER_INFL_ADJ' from string to numeric, removing commas\n",
    "df['COST_REPAIRS_INFL_ADJ'] = pd.to_numeric(df['COST_REPAIRS_INFL_ADJ'].str.replace(',', ''), errors='coerce')\n",
    "df['COST_OTHER_INFL_ADJ'] = pd.to_numeric(df['COST_OTHER_INFL_ADJ'].str.replace(',', ''), errors='coerce')\n",
    "\n",
    "# Now, you can safely add these columns\n",
    "df['COST_INFL_ADJ'] = df['COST_REPAIRS_INFL_ADJ'] + df['COST_OTHER_INFL_ADJ']\n",
    "# Check the result\n",
    "print(df['COST_INFL_ADJ'].value_counts())"
   ]
  },
  {
   "cell_type": "code",
   "execution_count": 66,
   "metadata": {},
   "outputs": [
    {
     "data": {
      "text/html": [
       "<div>\n",
       "<style scoped>\n",
       "    .dataframe tbody tr th:only-of-type {\n",
       "        vertical-align: middle;\n",
       "    }\n",
       "\n",
       "    .dataframe tbody tr th {\n",
       "        vertical-align: top;\n",
       "    }\n",
       "\n",
       "    .dataframe thead th {\n",
       "        text-align: right;\n",
       "    }\n",
       "</style>\n",
       "<table border=\"1\" class=\"dataframe\">\n",
       "  <thead>\n",
       "    <tr style=\"text-align: right;\">\n",
       "      <th></th>\n",
       "      <th>TIME_OF_DAY</th>\n",
       "      <th>AIRCRAFT</th>\n",
       "      <th>AC_MASS</th>\n",
       "      <th>PHASE_OF_FLIGHT</th>\n",
       "      <th>SPECIES</th>\n",
       "      <th>STATE</th>\n",
       "      <th>NUM_STRUCK</th>\n",
       "      <th>INCIDENT_YEAR</th>\n",
       "      <th>HEIGHT</th>\n",
       "      <th>SPEED</th>\n",
       "      <th>DISTANCE</th>\n",
       "      <th>COST_INFL_ADJ</th>\n",
       "    </tr>\n",
       "  </thead>\n",
       "  <tbody>\n",
       "    <tr>\n",
       "      <th>0</th>\n",
       "      <td>Day</td>\n",
       "      <td>B-727-100</td>\n",
       "      <td>4.0</td>\n",
       "      <td>Take-off Run</td>\n",
       "      <td>Unknown bird - medium</td>\n",
       "      <td>TX</td>\n",
       "      <td>1</td>\n",
       "      <td>1991</td>\n",
       "      <td>0</td>\n",
       "      <td>100</td>\n",
       "      <td>0.0</td>\n",
       "      <td>NaN</td>\n",
       "    </tr>\n",
       "    <tr>\n",
       "      <th>1</th>\n",
       "      <td>Day</td>\n",
       "      <td>DC-9</td>\n",
       "      <td>4.0</td>\n",
       "      <td>Landing Roll</td>\n",
       "      <td>Unknown bird - small</td>\n",
       "      <td>GA</td>\n",
       "      <td>2-10</td>\n",
       "      <td>1990</td>\n",
       "      <td>0</td>\n",
       "      <td>100</td>\n",
       "      <td>0.0</td>\n",
       "      <td>NaN</td>\n",
       "    </tr>\n",
       "    <tr>\n",
       "      <th>2</th>\n",
       "      <td>Day</td>\n",
       "      <td>MD-11</td>\n",
       "      <td>4.0</td>\n",
       "      <td>Landing Roll</td>\n",
       "      <td>Unknown bird - small</td>\n",
       "      <td>TX</td>\n",
       "      <td>1</td>\n",
       "      <td>1993</td>\n",
       "      <td>0</td>\n",
       "      <td>120</td>\n",
       "      <td>0.0</td>\n",
       "      <td>NaN</td>\n",
       "    </tr>\n",
       "    <tr>\n",
       "      <th>3</th>\n",
       "      <td>Day</td>\n",
       "      <td>MD-80</td>\n",
       "      <td>4.0</td>\n",
       "      <td>Landing Roll</td>\n",
       "      <td>American kestrel</td>\n",
       "      <td>CA</td>\n",
       "      <td>1</td>\n",
       "      <td>1990</td>\n",
       "      <td>0</td>\n",
       "      <td>125</td>\n",
       "      <td>0.0</td>\n",
       "      <td>NaN</td>\n",
       "    </tr>\n",
       "    <tr>\n",
       "      <th>4</th>\n",
       "      <td>NaN</td>\n",
       "      <td>B-757-200</td>\n",
       "      <td>4.0</td>\n",
       "      <td>Take-off Run</td>\n",
       "      <td>Unknown bird - medium</td>\n",
       "      <td>CA</td>\n",
       "      <td>11-100</td>\n",
       "      <td>1995</td>\n",
       "      <td>0</td>\n",
       "      <td>140</td>\n",
       "      <td>0.0</td>\n",
       "      <td>NaN</td>\n",
       "    </tr>\n",
       "  </tbody>\n",
       "</table>\n",
       "</div>"
      ],
      "text/plain": [
       "  TIME_OF_DAY   AIRCRAFT  AC_MASS PHASE_OF_FLIGHT                SPECIES  \\\n",
       "0         Day  B-727-100      4.0    Take-off Run  Unknown bird - medium   \n",
       "1         Day       DC-9      4.0    Landing Roll   Unknown bird - small   \n",
       "2         Day      MD-11      4.0    Landing Roll   Unknown bird - small   \n",
       "3         Day      MD-80      4.0    Landing Roll       American kestrel   \n",
       "4         NaN  B-757-200      4.0    Take-off Run  Unknown bird - medium   \n",
       "\n",
       "  STATE NUM_STRUCK  INCIDENT_YEAR  HEIGHT  SPEED  DISTANCE  COST_INFL_ADJ  \n",
       "0    TX          1           1991       0    100       0.0            NaN  \n",
       "1    GA       2-10           1990       0    100       0.0            NaN  \n",
       "2    TX          1           1993       0    120       0.0            NaN  \n",
       "3    CA          1           1990       0    125       0.0            NaN  \n",
       "4    CA     11-100           1995       0    140       0.0            NaN  "
      ]
     },
     "execution_count": 66,
     "metadata": {},
     "output_type": "execute_result"
    }
   ],
   "source": [
    "df = df.drop(columns=['COST_REPAIRS_INFL_ADJ', 'COST_OTHER_INFL_ADJ'])\n",
    "df.head()"
   ]
  },
  {
   "cell_type": "markdown",
   "metadata": {},
   "source": [
    "# 2.Analisis Explicativo del dataset (EDA): "
   ]
  },
  {
   "cell_type": "code",
   "execution_count": 36,
   "metadata": {},
   "outputs": [
    {
     "data": {
      "image/png": "[encoded data removed]",
      "text/plain": [
       "<Figure size 864x432 with 1 Axes>"
      ]
     },
     "metadata": {
      "needs_background": "light"
     },
     "output_type": "display_data"
    }
   ],
   "source": [
    "# Assuming df is your DataFrame after loading the dataset\n",
    "# Plotting incidents over the years\n",
    "yearly_trends = df.groupby('INCIDENT_YEAR').size()\n",
    "\n",
    "plt.figure(figsize=(12, 6))\n",
    "yearly_trends.plot(kind='line', marker='o')\n",
    "plt.title('Wildlife Strikes Over Time (1990-2023)')\n",
    "plt.xlabel('Year')\n",
    "plt.ylabel('Number of Incidents')\n",
    "plt.grid(True)\n",
    "plt.show()\n"
   ]
  },
  {
   "cell_type": "code",
   "execution_count": 37,
   "metadata": {},
   "outputs": [
    {
     "data": {
      "application/vnd.plotly.v1+json": {
       "config": {
        "plotlyServerURL": "https://plot.ly"
       },
       "data": [
        {
         "coloraxis": "coloraxis",
         "geo": "geo",
         "hovertemplate": "STATE=%{location}<br>Number of Incidents=%{z}<extra></extra>",
         "locationmode": "USA-states",
         "locations": [
          "AB",
          "AK",
          "AL",
          "AR",
          "AS",
          "AZ",
          "BC",
          "CA",
          "CO",
          "CT",
          "DC",
          "DE",
          "FL",
          "FN",
          "GA",
          "GU",
          "HI",
          "IA",
          "ID",
          "IL",
          "IN",
          "KS",
          "KY",
          "LA",
          "MA",
          "MB",
          "MD",
          "ME",
          "MH",
          "MI",
          "MN",
          "MO",
          "MP",
          "MS",
          "MT",
          "NC",
          "ND",
          "NE",
          "NH",
          "NJ",
          "NL",
          "NM",
          "NV",
          "NY",
          "OH",
          "OK",
          "ON",
          "OR",
          "PA",
          "PR",
          "QC",
          "RI",
          "SC",
          "SD",
          "SK",
          "TN",
          "TX",
          "UM",
          "UT",
          "VA",
          "VI",
          "VT",
          "WA",
          "WI",
          "WV",
          "WY"
         ],
         "name": "",
         "type": "choropleth",
         "z": [
          14,
          340,
          532,
          334,
          20,
          663,
          29,
          4932,
          1601,
          592,
          771,
          75,
          5121,
          2083,
          1238,
          12,
          1461,
          481,
          147,
          2133,
          867,
          219,
          1895,
          789,
          841,
          4,
          854,
          185,
          4,
          910,
          592,
          1626,
          27,
          217,
          136,
          1414,
          231,
          733,
          163,
          954,
          2,
          201,
          255,
          2351,
          1246,
          472,
          62,
          571,
          2304,
          177,
          34,
          214,
          438,
          143,
          1,
          2652,
          5553,
          31,
          519,
          717,
          104,
          48,
          558,
          693,
          195,
          72
         ]
        }
       ],
       "layout": {
        "coloraxis": {
         "colorbar": {
          "title": {
           "text": "Number of Incidents"
          }
         },
         "colorscale": [
          [
           0,
           "#440154"
          ],
          [
           0.1111111111111111,
           "#482878"
          ],
          [
           0.2222222222222222,
           "#3e4989"
          ],
          [
           0.3333333333333333,
           "#31688e"
          ],
          [
           0.4444444444444444,
           "#26828e"
          ],
          [
           0.5555555555555556,
           "#1f9e89"
          ],
          [
           0.6666666666666666,
           "#35b779"
          ],
          [
           0.7777777777777778,
           "#6ece58"
          ],
          [
           0.8888888888888888,
           "#b5de2b"
          ],
          [
           1,
           "#fde725"
          ]
         ]
        },
        "geo": {
         "center": {},
         "domain": {
          "x": [
           0,
           1
          ],
          "y": [
           0,
           1
          ]
         },
         "scope": "usa"
        },
        "legend": {
         "tracegroupgap": 0
        },
        "margin": {
         "t": 60
        },
        "template": {
         "data": {
          "bar": [
           {
            "error_x": {
             "color": "#2a3f5f"
            },
            "error_y": {
             "color": "#2a3f5f"
            },
            "marker": {
             "line": {
              "color": "#E5ECF6",
              "width": 0.5
             },
             "pattern": {
              "fillmode": "overlay",
              "size": 10,
              "solidity": 0.2
             }
            },
            "type": "bar"
           }
          ],
          "barpolar": [
           {
            "marker": {
             "line": {
              "color": "#E5ECF6",
              "width": 0.5
             },
             "pattern": {
              "fillmode": "overlay",
              "size": 10,
              "solidity": 0.2
             }
            },
            "type": "barpolar"
           }
          ],
          "carpet": [
           {
            "aaxis": {
             "endlinecolor": "#2a3f5f",
             "gridcolor": "white",
             "linecolor": "white",
             "minorgridcolor": "white",
             "startlinecolor": "#2a3f5f"
            },
            "baxis": {
             "endlinecolor": "#2a3f5f",
             "gridcolor": "white",
             "linecolor": "white",
             "minorgridcolor": "white",
             "startlinecolor": "#2a3f5f"
            },
            "type": "carpet"
           }
          ],
          "choropleth": [
           {
            "colorbar": {
             "outlinewidth": 0,
             "ticks": ""
            },
            "type": "choropleth"
           }
          ],
          "contour": [
           {
            "colorbar": {
             "outlinewidth": 0,
             "ticks": ""
            },
            "colorscale": [
             [
              0,
              "#0d0887"
             ],
             [
              0.1111111111111111,
              "#46039f"
             ],
             [
              0.2222222222222222,
              "#7201a8"
             ],
             [
              0.3333333333333333,
              "#9c179e"
             ],
             [
              0.4444444444444444,
              "#bd3786"
             ],
             [
              0.5555555555555556,
              "#d8576b"
             ],
             [
              0.6666666666666666,
              "#ed7953"
             ],
             [
              0.7777777777777778,
              "#fb9f3a"
             ],
             [
              0.8888888888888888,
              "#fdca26"
             ],
             [
              1,
              "#f0f921"
             ]
            ],
            "type": "contour"
           }
          ],
          "contourcarpet": [
           {
            "colorbar": {
             "outlinewidth": 0,
             "ticks": ""
            },
            "type": "contourcarpet"
           }
          ],
          "heatmap": [
           {
            "colorbar": {
             "outlinewidth": 0,
             "ticks": ""
            },
            "colorscale": [
             [
              0,
              "#0d0887"
             ],
             [
              0.1111111111111111,
              "#46039f"
             ],
             [
              0.2222222222222222,
              "#7201a8"
             ],
             [
              0.3333333333333333,
              "#9c179e"
             ],
             [
              0.4444444444444444,
              "#bd3786"
             ],
             [
              0.5555555555555556,
              "#d8576b"
             ],
             [
              0.6666666666666666,
              "#ed7953"
             ],
             [
              0.7777777777777778,
              "#fb9f3a"
             ],
             [
              0.8888888888888888,
              "#fdca26"
             ],
             [
              1,
              "#f0f921"
             ]
            ],
            "type": "heatmap"
           }
          ],
          "heatmapgl": [
           {
            "colorbar": {
             "outlinewidth": 0,
             "ticks": ""
            },
            "colorscale": [
             [
              0,
              "#0d0887"
             ],
             [
              0.1111111111111111,
              "#46039f"
             ],
             [
              0.2222222222222222,
              "#7201a8"
             ],
             [
              0.3333333333333333,
              "#9c179e"
             ],
             [
              0.4444444444444444,
              "#bd3786"
             ],
             [
              0.5555555555555556,
              "#d8576b"
             ],
             [
              0.6666666666666666,
              "#ed7953"
             ],
             [
              0.7777777777777778,
              "#fb9f3a"
             ],
             [
              0.8888888888888888,
              "#fdca26"
             ],
             [
              1,
              "#f0f921"
             ]
            ],
            "type": "heatmapgl"
           }
          ],
          "histogram": [
           {
            "marker": {
             "pattern": {
              "fillmode": "overlay",
              "size": 10,
              "solidity": 0.2
             }
            },
            "type": "histogram"
           }
          ],
          "histogram2d": [
           {
            "colorbar": {
             "outlinewidth": 0,
             "ticks": ""
            },
            "colorscale": [
             [
              0,
              "#0d0887"
             ],
             [
              0.1111111111111111,
              "#46039f"
             ],
             [
              0.2222222222222222,
              "#7201a8"
             ],
             [
              0.3333333333333333,
              "#9c179e"
             ],
             [
              0.4444444444444444,
              "#bd3786"
             ],
             [
              0.5555555555555556,
              "#d8576b"
             ],
             [
              0.6666666666666666,
              "#ed7953"
             ],
             [
              0.7777777777777778,
              "#fb9f3a"
             ],
             [
              0.8888888888888888,
              "#fdca26"
             ],
             [
              1,
              "#f0f921"
             ]
            ],
            "type": "histogram2d"
           }
          ],
          "histogram2dcontour": [
           {
            "colorbar": {
             "outlinewidth": 0,
             "ticks": ""
            },
            "colorscale": [
             [
              0,
              "#0d0887"
             ],
             [
              0.1111111111111111,
              "#46039f"
             ],
             [
              0.2222222222222222,
              "#7201a8"
             ],
             [
              0.3333333333333333,
              "#9c179e"
             ],
             [
              0.4444444444444444,
              "#bd3786"
             ],
             [
              0.5555555555555556,
              "#d8576b"
             ],
             [
              0.6666666666666666,
              "#ed7953"
             ],
             [
              0.7777777777777778,
              "#fb9f3a"
             ],
             [
              0.8888888888888888,
              "#fdca26"
             ],
             [
              1,
              "#f0f921"
             ]
            ],
            "type": "histogram2dcontour"
           }
          ],
          "mesh3d": [
           {
            "colorbar": {
             "outlinewidth": 0,
             "ticks": ""
            },
            "type": "mesh3d"
           }
          ],
          "parcoords": [
           {
            "line": {
             "colorbar": {
              "outlinewidth": 0,
              "ticks": ""
             }
            },
            "type": "parcoords"
           }
          ],
          "pie": [
           {
            "automargin": true,
            "type": "pie"
           }
          ],
          "scatter": [
           {
            "fillpattern": {
             "fillmode": "overlay",
             "size": 10,
             "solidity": 0.2
            },
            "type": "scatter"
           }
          ],
          "scatter3d": [
           {
            "line": {
             "colorbar": {
              "outlinewidth": 0,
              "ticks": ""
             }
            },
            "marker": {
             "colorbar": {
              "outlinewidth": 0,
              "ticks": ""
             }
            },
            "type": "scatter3d"
           }
          ],
          "scattercarpet": [
           {
            "marker": {
             "colorbar": {
              "outlinewidth": 0,
              "ticks": ""
             }
            },
            "type": "scattercarpet"
           }
          ],
          "scattergeo": [
           {
            "marker": {
             "colorbar": {
              "outlinewidth": 0,
              "ticks": ""
             }
            },
            "type": "scattergeo"
           }
          ],
          "scattergl": [
           {
            "marker": {
             "colorbar": {
              "outlinewidth": 0,
              "ticks": ""
             }
            },
            "type": "scattergl"
           }
          ],
          "scattermapbox": [
           {
            "marker": {
             "colorbar": {
              "outlinewidth": 0,
              "ticks": ""
             }
            },
            "type": "scattermapbox"
           }
          ],
          "scatterpolar": [
           {
            "marker": {
             "colorbar": {
              "outlinewidth": 0,
              "ticks": ""
             }
            },
            "type": "scatterpolar"
           }
          ],
          "scatterpolargl": [
           {
            "marker": {
             "colorbar": {
              "outlinewidth": 0,
              "ticks": ""
             }
            },
            "type": "scatterpolargl"
           }
          ],
          "scatterternary": [
           {
            "marker": {
             "colorbar": {
              "outlinewidth": 0,
              "ticks": ""
             }
            },
            "type": "scatterternary"
           }
          ],
          "surface": [
           {
            "colorbar": {
             "outlinewidth": 0,
             "ticks": ""
            },
            "colorscale": [
             [
              0,
              "#0d0887"
             ],
             [
              0.1111111111111111,
              "#46039f"
             ],
             [
              0.2222222222222222,
              "#7201a8"
             ],
             [
              0.3333333333333333,
              "#9c179e"
             ],
             [
              0.4444444444444444,
              "#bd3786"
             ],
             [
              0.5555555555555556,
              "#d8576b"
             ],
             [
              0.6666666666666666,
              "#ed7953"
             ],
             [
              0.7777777777777778,
              "#fb9f3a"
             ],
             [
              0.8888888888888888,
              "#fdca26"
             ],
             [
              1,
              "#f0f921"
             ]
            ],
            "type": "surface"
           }
          ],
          "table": [
           {
            "cells": {
             "fill": {
              "color": "#EBF0F8"
             },
             "line": {
              "color": "white"
             }
            },
            "header": {
             "fill": {
              "color": "#C8D4E3"
             },
             "line": {
              "color": "white"
             }
            },
            "type": "table"
           }
          ]
         },
         "layout": {
          "annotationdefaults": {
           "arrowcolor": "#2a3f5f",
           "arrowhead": 0,
           "arrowwidth": 1
          },
          "autotypenumbers": "strict",
          "coloraxis": {
           "colorbar": {
            "outlinewidth": 0,
            "ticks": ""
           }
          },
          "colorscale": {
           "diverging": [
            [
             0,
             "#8e0152"
            ],
            [
             0.1,
             "#c51b7d"
            ],
            [
             0.2,
             "#de77ae"
            ],
            [
             0.3,
             "#f1b6da"
            ],
            [
             0.4,
             "#fde0ef"
            ],
            [
             0.5,
             "#f7f7f7"
            ],
            [
             0.6,
             "#e6f5d0"
            ],
            [
             0.7,
             "#b8e186"
            ],
            [
             0.8,
             "#7fbc41"
            ],
            [
             0.9,
             "#4d9221"
            ],
            [
             1,
             "#276419"
            ]
           ],
           "sequential": [
            [
             0,
             "#0d0887"
            ],
            [
             0.1111111111111111,
             "#46039f"
            ],
            [
             0.2222222222222222,
             "#7201a8"
            ],
            [
             0.3333333333333333,
             "#9c179e"
            ],
            [
             0.4444444444444444,
             "#bd3786"
            ],
            [
             0.5555555555555556,
             "#d8576b"
            ],
            [
             0.6666666666666666,
             "#ed7953"
            ],
            [
             0.7777777777777778,
             "#fb9f3a"
            ],
            [
             0.8888888888888888,
             "#fdca26"
            ],
            [
             1,
             "#f0f921"
            ]
           ],
           "sequentialminus": [
            [
             0,
             "#0d0887"
            ],
            [
             0.1111111111111111,
             "#46039f"
            ],
            [
             0.2222222222222222,
             "#7201a8"
            ],
            [
             0.3333333333333333,
             "#9c179e"
            ],
            [
             0.4444444444444444,
             "#bd3786"
            ],
            [
             0.5555555555555556,
             "#d8576b"
            ],
            [
             0.6666666666666666,
             "#ed7953"
            ],
            [
             0.7777777777777778,
             "#fb9f3a"
            ],
            [
             0.8888888888888888,
             "#fdca26"
            ],
            [
             1,
             "#f0f921"
            ]
           ]
          },
          "colorway": [
           "#636efa",
           "#EF553B",
           "#00cc96",
           "#ab63fa",
           "#FFA15A",
           "#19d3f3",
           "#FF6692",
           "#B6E880",
           "#FF97FF",
           "#FECB52"
          ],
          "font": {
           "color": "#2a3f5f"
          },
          "geo": {
           "bgcolor": "white",
           "lakecolor": "white",
           "landcolor": "#E5ECF6",
           "showlakes": true,
           "showland": true,
           "subunitcolor": "white"
          },
          "hoverlabel": {
           "align": "left"
          },
          "hovermode": "closest",
          "mapbox": {
           "style": "light"
          },
          "paper_bgcolor": "white",
          "plot_bgcolor": "#E5ECF6",
          "polar": {
           "angularaxis": {
            "gridcolor": "white",
            "linecolor": "white",
            "ticks": ""
           },
           "bgcolor": "#E5ECF6",
           "radialaxis": {
            "gridcolor": "white",
            "linecolor": "white",
            "ticks": ""
           }
          },
          "scene": {
           "xaxis": {
            "backgroundcolor": "#E5ECF6",
            "gridcolor": "white",
            "gridwidth": 2,
            "linecolor": "white",
            "showbackground": true,
            "ticks": "",
            "zerolinecolor": "white"
           },
           "yaxis": {
            "backgroundcolor": "#E5ECF6",
            "gridcolor": "white",
            "gridwidth": 2,
            "linecolor": "white",
            "showbackground": true,
            "ticks": "",
            "zerolinecolor": "white"
           },
           "zaxis": {
            "backgroundcolor": "#E5ECF6",
            "gridcolor": "white",
            "gridwidth": 2,
            "linecolor": "white",
            "showbackground": true,
            "ticks": "",
            "zerolinecolor": "white"
           }
          },
          "shapedefaults": {
           "line": {
            "color": "#2a3f5f"
           }
          },
          "ternary": {
           "aaxis": {
            "gridcolor": "white",
            "linecolor": "white",
            "ticks": ""
           },
           "baxis": {
            "gridcolor": "white",
            "linecolor": "white",
            "ticks": ""
           },
           "bgcolor": "#E5ECF6",
           "caxis": {
            "gridcolor": "white",
            "linecolor": "white",
            "ticks": ""
           }
          },
          "title": {
           "x": 0.05
          },
          "xaxis": {
           "automargin": true,
           "gridcolor": "white",
           "linecolor": "white",
           "ticks": "",
           "title": {
            "standoff": 15
           },
           "zerolinecolor": "white",
           "zerolinewidth": 2
          },
          "yaxis": {
           "automargin": true,
           "gridcolor": "white",
           "linecolor": "white",
           "ticks": "",
           "title": {
            "standoff": 15
           },
           "zerolinecolor": "white",
           "zerolinewidth": 2
          }
         }
        },
        "title": {
         "text": "Wildlife Strikes by State in the USA (1990-2023)"
        }
       }
      }
     },
     "metadata": {},
     "output_type": "display_data"
    }
   ],
   "source": [
    "state_accidents = df.groupby('STATE').size().reset_index(name='counts')\n",
    "fig = px.choropleth(state_accidents,\n",
    "                    locations='STATE', \n",
    "                    locationmode=\"USA-states\", \n",
    "                    color='counts', \n",
    "                    color_continuous_scale=\"Viridis\",\n",
    "                    scope=\"usa\",\n",
    "                    labels={'counts':'Number of Incidents'}\n",
    "                   )\n",
    "\n",
    "fig.update_layout(title_text='Wildlife Strikes by State in the USA (1990-2023)')\n",
    "fig.show()"
   ]
  },
  {
   "cell_type": "code",
   "execution_count": 38,
   "metadata": {},
   "outputs": [
    {
     "data": {
      "image/png": "[encoded data removed]",
      "text/plain": [
       "<Figure size 432x288 with 1 Axes>"
      ]
     },
     "metadata": {
      "needs_background": "light"
     },
     "output_type": "display_data"
    },
    {
     "data": {
      "image/png": "[encoded data removed]",
      "text/plain": [
       "<Figure size 432x288 with 1 Axes>"
      ]
     },
     "metadata": {
      "needs_background": "light"
     },
     "output_type": "display_data"
    }
   ],
   "source": [
    "# Top 5 species involved in strikes\n",
    "top_species = df['SPECIES'].value_counts().head(10)\n",
    "sns.barplot(x=top_species.index, y=top_species.values)\n",
    "plt.title('Top 10 Species in Wildlife Strikes')\n",
    "plt.xticks(rotation=45)\n",
    "plt.show()\n",
    "\n",
    "# Aircraft types most involved in strikes\n",
    "top_aircraft = df['AIRCRAFT'].value_counts().head(10)\n",
    "sns.barplot(x=top_aircraft.index, y=top_aircraft.values)\n",
    "plt.title('Top 10 Aircraft Types in Wildlife Strikes')\n",
    "plt.xticks(rotation=45)\n",
    "plt.show()\n"
   ]
  },
  {
   "cell_type": "code",
   "execution_count": 39,
   "metadata": {},
   "outputs": [
    {
     "data": {
      "image/png": "[encoded data removed]",
      "text/plain": [
       "<Figure size 864x432 with 1 Axes>"
      ]
     },
     "metadata": {
      "needs_background": "light"
     },
     "output_type": "display_data"
    }
   ],
   "source": [
    "yearly_costs = df.groupby('INCIDENT_YEAR')['COST_INFL_ADJ'].sum()\n",
    "\n",
    "plt.figure(figsize=(12, 6))\n",
    "yearly_costs.plot(kind='line', marker='o')\n",
    "plt.title('Yearly Progression of Wildlife Strike Costs')\n",
    "plt.xlabel('Year')\n",
    "plt.ylabel('Total Cost (Inflation Adjusted)')\n",
    "plt.grid(True)\n",
    "plt.show()"
   ]
  },
  {
   "cell_type": "code",
   "execution_count": 43,
   "metadata": {},
   "outputs": [
    {
     "name": "stdout",
     "output_type": "stream",
     "text": [
      "Overall cost (Inflation Adjusted): 151117411.0\n"
     ]
    }
   ],
   "source": [
    "overall_cost = df['COST_INFL_ADJ'].sum()\n",
    "print(f\"Overall cost (Inflation Adjusted): {overall_cost}\")"
   ]
  },
  {
   "cell_type": "code",
   "execution_count": 70,
   "metadata": {},
   "outputs": [
    {
     "name": "stdout",
     "output_type": "stream",
     "text": [
      "Column: TIME_OF_DAY\n",
      "Day      33688\n",
      "Night    14241\n",
      "Dusk      2575\n",
      "Dawn      2016\n",
      "Name: TIME_OF_DAY, dtype: int64\n",
      "\n",
      "\n",
      "Column: AIRCRAFT\n",
      "Other aircrafts    21213\n",
      "B-737-700           5586\n",
      "B-737-800           3331\n",
      "B-737-300           2816\n",
      "A-320               2438\n",
      "B-757-200           2209\n",
      "CRJ100/200          2046\n",
      "A-319               1755\n",
      "B-767-300           1700\n",
      "A-300               1682\n",
      "EMB-145             1562\n",
      "EMB-170             1277\n",
      "MD-82               1118\n",
      "A-321               1116\n",
      "C-172               1014\n",
      "B-717-200            945\n",
      "B-737-200            859\n",
      "MD-11                855\n",
      "DHC8 DASH 8          756\n",
      "B-727-200            718\n",
      "Name: AIRCRAFT, dtype: int64\n",
      "\n",
      "\n",
      "Column: AC_MASS\n",
      "4.0    37625\n",
      "3.0     9633\n",
      "1.0     3572\n",
      "2.0     3526\n",
      "5.0      399\n",
      "Name: AC_MASS, dtype: int64\n",
      "\n",
      "\n",
      "Column: PHASE_OF_FLIGHT\n",
      "Approach        22484\n",
      "Take-off Run    12474\n",
      "Landing Roll    11943\n",
      "Climb            7210\n",
      "Descent           494\n",
      "Taxi              151\n",
      "Local             138\n",
      "Parked             33\n",
      "En Route            1\n",
      "Name: PHASE_OF_FLIGHT, dtype: int64\n",
      "\n",
      "\n",
      "Column: SPECIES\n",
      "Unknown bird - small     18384\n",
      "Other species            14117\n",
      "Unknown bird - medium     6704\n",
      "Unknown bird              2647\n",
      "Gulls                     2428\n",
      "Mourning dove             1708\n",
      "Barn swallow              1409\n",
      "Sparrows                  1316\n",
      "European starling         1187\n",
      "Unknown bird - large      1103\n",
      "American kestrel           867\n",
      "Killdeer                   858\n",
      "Rock pigeon                856\n",
      "Red-tailed hawk            750\n",
      "Canada goose               662\n",
      "Name: SPECIES, dtype: int64\n",
      "\n",
      "\n",
      "Column: NUM_STRUCK\n",
      "1                45414\n",
      "2-10              8981\n",
      "11-100             580\n",
      "More than 100       21\n",
      "Name: NUM_STRUCK, dtype: int64\n",
      "\n",
      "\n"
     ]
    }
   ],
   "source": [
    "CATEGORICAL_COLUMNS = ['TIME_OF_DAY', 'AIRCRAFT', 'AC_MASS', 'PHASE_OF_FLIGHT', 'SPECIES', 'NUM_STRUCK']\n",
    "NUMERICAL_COLUMNS = ['INCIDENT_YEAR', 'HEIGHT', 'SPEED', 'DISTANCE', 'COST_INFL_ADJ']\n",
    "# Análisis de la distribución de categorías\n",
    "for i, column in enumerate(CATEGORICAL_COLUMNS, 1): \n",
    "    print(f\"Column: {column}\")\n",
    "    print(df[column].value_counts())\n",
    "    print(\"\\n\")"
   ]
  },
  {
   "cell_type": "code",
   "execution_count": 71,
   "metadata": {},
   "outputs": [
    {
     "data": {
      "image/png": "[encoded data removed]",
      "text/plain": [
       "<Figure size 720x576 with 2 Axes>"
      ]
     },
     "metadata": {
      "needs_background": "light"
     },
     "output_type": "display_data"
    }
   ],
   "source": [
    "plt.figure(figsize=(10, 8))\n",
    "sns.heatmap(df[NUMERICAL_COLUMNS].corr(), annot=True, cmap='coolwarm')\n",
    "plt.title('Correlation Matrix')\n",
    "plt.show()"
   ]
  },
  {
   "cell_type": "code",
   "execution_count": 73,
   "metadata": {},
   "outputs": [
    {
     "data": {
      "image/png": "[encoded data removed]",
      "text/plain": [
       "<Figure size 1080x1080 with 6 Axes>"
      ]
     },
     "metadata": {
      "needs_background": "light"
     },
     "output_type": "display_data"
    }
   ],
   "source": [
    "\n",
    "# * Análisis de la distribución de columnas categóricas \n",
    "plt.figure(figsize=(15, 15))\n",
    "\n",
    "for i, column in enumerate(CATEGORICAL_COLUMNS, 1):\n",
    "    # Calculate the frequencies of each category\n",
    "    value_counts = df[column].value_counts()\n",
    "    # Create a horizontal bar chart\n",
    "    plt.subplot(4, 2, i)  # Adjust the grid dimensions as needed\n",
    "    plt.barh(value_counts.index, value_counts, color='skyblue', edgecolor='black')\n",
    "    plt.title(f'Distribución de {column}')\n",
    "    plt.xlabel('Frecuencia')\n",
    "    plt.ylabel(column)\n",
    "    \n",
    "plt.tight_layout()\n",
    "plt.show()"
   ]
  },
  {
   "cell_type": "markdown",
   "metadata": {},
   "source": [
    "De las graficas de arriba, podemos observar que existe un gran desfase de clases - particularmente con la columna de SPECIES, AIRPORT_ID y AIRCRAFT. \n",
    "Con el fin de equilibrar las clases y seleccionar los datos más relevantes, vamos a generar una tabla la cual cojan datos de hasta el cuartil 75 dentro de toda la distribución y evitar casos extremos. \n",
    "\n",
    "Para aquellas otras categorías como AC_MASS, PHASE_OF_FLIGHT, TIME_OF_DAY, procederemos a equilibrar las clases mediante SMOTE. "
   ]
  },
  {
   "cell_type": "markdown",
   "metadata": {},
   "source": [
    "----\n",
    "\n",
    "# Equilibrio de Clases"
   ]
  },
  {
   "cell_type": "markdown",
   "metadata": {},
   "source": [
    "Debido al gran numero de especies de animal, y aviones ..."
   ]
  },
  {
   "cell_type": "code",
   "execution_count": 67,
   "metadata": {},
   "outputs": [
    {
     "name": "stdout",
     "output_type": "stream",
     "text": [
      "DataFrame con categorías agrupadas:\n",
      "Unknown bird - small     18384\n",
      "Other species            14117\n",
      "Unknown bird - medium     6704\n",
      "Unknown bird              2647\n",
      "Gulls                     2428\n",
      "Mourning dove             1708\n",
      "Barn swallow              1409\n",
      "Sparrows                  1316\n",
      "European starling         1187\n",
      "Unknown bird - large      1103\n",
      "American kestrel           867\n",
      "Killdeer                   858\n",
      "Rock pigeon                856\n",
      "Red-tailed hawk            750\n",
      "Canada goose               662\n",
      "Name: SPECIES, dtype: int64\n"
     ]
    }
   ],
   "source": [
    "# Encontrar las 14 categorías más comunes\n",
    "top_14_species = df['SPECIES'].value_counts().head(14).index\n",
    "\n",
    "# Reemplazar todas las otras categorías por 'Other species'\n",
    "df['SPECIES'] = df['SPECIES'].apply(lambda x: x if x in top_14_species else 'Other species')\n",
    "\n",
    "# Verificar el resultado\n",
    "print('DataFrame con categorías agrupadas:')\n",
    "print(df['SPECIES'].value_counts())\n"
   ]
  },
  {
   "cell_type": "code",
   "execution_count": 68,
   "metadata": {},
   "outputs": [
    {
     "name": "stdout",
     "output_type": "stream",
     "text": [
      "DataFrame con categorías agrupadas:\n",
      "Other aircrafts    21213\n",
      "B-737-700           5586\n",
      "B-737-800           3331\n",
      "B-737-300           2816\n",
      "A-320               2438\n",
      "B-757-200           2209\n",
      "CRJ100/200          2046\n",
      "A-319               1755\n",
      "B-767-300           1700\n",
      "A-300               1682\n",
      "EMB-145             1562\n",
      "EMB-170             1277\n",
      "MD-82               1118\n",
      "A-321               1116\n",
      "C-172               1014\n",
      "B-717-200            945\n",
      "B-737-200            859\n",
      "MD-11                855\n",
      "DHC8 DASH 8          756\n",
      "B-727-200            718\n",
      "Name: AIRCRAFT, dtype: int64\n"
     ]
    }
   ],
   "source": [
    "# Encontrar las 19 categorías más comunes\n",
    "top_19_aircraft = df['AIRCRAFT'].value_counts().head(19).index\n",
    "\n",
    "# Reemplazar todas las otras categorías por 'Other species'\n",
    "df['AIRCRAFT'] = df['AIRCRAFT'].apply(lambda x: x if x in top_19_aircraft else 'Other aircrafts')\n",
    "\n",
    "# Verificar el resultado\n",
    "print('DataFrame con categorías agrupadas:')\n",
    "print(df['AIRCRAFT'].value_counts())"
   ]
  },
  {
   "cell_type": "markdown",
   "metadata": {},
   "source": [
    "----\n",
    "\n",
    "# PCA"
   ]
  },
  {
   "cell_type": "markdown",
   "metadata": {},
   "source": [
    "----\n",
    "# Clustering "
   ]
  },
  {
   "cell_type": "code",
   "execution_count": null,
   "metadata": {},
   "outputs": [],
   "source": []
  }
 ],
 "metadata": {
  "kernelspec": {
   "display_name": "base",
   "language": "python",
   "name": "python3"
  },
  "language_info": {
   "codemirror_mode": {
    "name": "ipython",
    "version": 3
   },
   "file_extension": ".py",
   "mimetype": "text/x-python",
   "name": "python",
   "nbconvert_exporter": "python",
   "pygments_lexer": "ipython3",
   "version": "3.11.5"
  }
 },
 "nbformat": 4,
 "nbformat_minor": 2
}
